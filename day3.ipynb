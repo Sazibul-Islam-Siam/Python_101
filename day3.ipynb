{
 "cells": [
  {
   "cell_type": "markdown",
   "id": "4689720a",
   "metadata": {},
   "source": [
    "# Use of conditional statement"
   ]
  },
  {
   "cell_type": "code",
   "execution_count": 1,
   "id": "06e7c1dc",
   "metadata": {},
   "outputs": [
    {
     "name": "stdout",
     "output_type": "stream",
     "text": [
      "X is nither 3 nor 5\n"
     ]
    }
   ],
   "source": [
    "x=int(input(\"Enter a number: \"))\n",
    "if x==3:\n",
    "    print(\"X is 3\")\n",
    "elif x==5:\n",
    "    print(\"X is 5\")\n",
    "else: print(\"X is nither 3 nor 5\")"
   ]
  },
  {
   "cell_type": "code",
   "execution_count": 2,
   "id": "77441bbb",
   "metadata": {},
   "outputs": [
    {
     "name": "stdout",
     "output_type": "stream",
     "text": [
      "X is not 5\n"
     ]
    }
   ],
   "source": [
    "if x != 5: # if x is not 3\n",
    "    print(\"X is not 5\")"
   ]
  },
  {
   "cell_type": "code",
   "execution_count": 3,
   "id": "b607894c",
   "metadata": {},
   "outputs": [
    {
     "name": "stdout",
     "output_type": "stream",
     "text": [
      "X is between 1 and 5\n"
     ]
    }
   ],
   "source": [
    "if (x >= 1 and x <= 5) or x==7: # if x is between 1 and 5\n",
    "    print(\"X is between 1 and 5\")"
   ]
  },
  {
   "cell_type": "code",
   "execution_count": 5,
   "id": "aab0a8ca",
   "metadata": {},
   "outputs": [],
   "source": [
    "if x == 1 or x == 3: # if x is 1 or 2\n",
    "    print(\"X is not 1 nor 2\")"
   ]
  },
  {
   "cell_type": "code",
   "execution_count": 7,
   "id": "7b23ae3c",
   "metadata": {},
   "outputs": [
    {
     "name": "stdout",
     "output_type": "stream",
     "text": [
      "You got it\n"
     ]
    }
   ],
   "source": [
    "num = 5\n",
    "guess = int(input())\n",
    "if (num==guess):\n",
    "    print(\"You got it\")\n",
    "else: print(\"You missed it\")"
   ]
  },
  {
   "cell_type": "markdown",
   "id": "560cd46c",
   "metadata": {},
   "source": [
    "# Task 1: Number Guessing Game\n",
    "Create a simple number guessing game where the program randomly selects a number between 1 and 100. The user has to guess the number, and the program should provide hints like \"Too high!\" or \"Too low!\" until the user guesses correctly.\n",
    "\n",
    "Requirements:\n",
    "\n",
    "\n",
    "*   Use the random module to select the number\n",
    "*   Implement a loop to allow multiple guesses.\n",
    "* Track and display the number of attempts it took the user to guess the number.\n",
    "\n"
   ]
  },
  {
   "cell_type": "code",
   "execution_count": 23,
   "id": "3507d1ce",
   "metadata": {},
   "outputs": [
    {
     "name": "stdout",
     "output_type": "stream",
     "text": [
      "Too low\n",
      "Too low\n",
      "Too low\n",
      "Too low\n",
      "Too high\n",
      "You have tried 6 times and finally correct it\n"
     ]
    }
   ],
   "source": [
    "# TODO\n",
    "from random import randint\n",
    "u = randint(1,101)\n",
    "i = 1\n",
    "while True:\n",
    "    num=int(input(\"Guess the number: \"))\n",
    "    if num>u:\n",
    "        print(\"Too high\")\n",
    "    elif num<u:\n",
    "        print(\"Too low\")\n",
    "    else:\n",
    "        break\n",
    "    i+=1 \n",
    "print(f\"You have tried {i} times and finally correct it\")"
   ]
  },
  {
   "cell_type": "code",
   "execution_count": 15,
   "id": "353a1309",
   "metadata": {},
   "outputs": [
    {
     "name": "stdout",
     "output_type": "stream",
     "text": [
      "2 6 10 14 18 22 26 30 34 38 42 46 "
     ]
    }
   ],
   "source": [
    "for i in range(2,50,4):\n",
    "    if i % 2 == 0:\n",
    "        print(i, end=' ')"
   ]
  },
  {
   "cell_type": "code",
   "execution_count": null,
   "id": "3549ea97",
   "metadata": {},
   "outputs": [
    {
     "name": "stdout",
     "output_type": "stream",
     "text": [
      "Sazibul islam Siam\n",
      "Number of vowels in your name is 7\n",
      "Number of consonents in your name is 9\n"
     ]
    }
   ],
   "source": [
    "name=input(\"Enter your name: \"),lower()\n",
    "vowels = name.count('a') + name.count('e') + name.count('i') + name.count('o') + name.count('u')\n",
    "print(f\"Number of vowels in your name is {vowels}\")\n",
    "consonents = len(name) - vowels - name.count(' ')\n",
    "print(f\"Number of consonents in your name is {consonents}\")"
   ]
  },
  {
   "cell_type": "code",
   "execution_count": null,
   "id": "0f7e8940",
   "metadata": {},
   "outputs": [],
   "source": []
  }
 ],
 "metadata": {
  "kernelspec": {
   "display_name": "venv",
   "language": "python",
   "name": "python3"
  },
  "language_info": {
   "codemirror_mode": {
    "name": "ipython",
    "version": 3
   },
   "file_extension": ".py",
   "mimetype": "text/x-python",
   "name": "python",
   "nbconvert_exporter": "python",
   "pygments_lexer": "ipython3",
   "version": "3.13.3"
  }
 },
 "nbformat": 4,
 "nbformat_minor": 5
}
