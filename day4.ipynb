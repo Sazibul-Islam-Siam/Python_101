{
 "cells": [
  {
   "cell_type": "markdown",
   "id": "d6286103",
   "metadata": {},
   "source": [
    "### List Comprehension"
   ]
  },
  {
   "cell_type": "code",
   "execution_count": 7,
   "id": "55dfb5e3",
   "metadata": {},
   "outputs": [
    {
     "data": {
      "text/plain": [
       "[6, 8, 10, 12, 14]"
      ]
     },
     "execution_count": 7,
     "metadata": {},
     "output_type": "execute_result"
    }
   ],
   "source": [
    "[x+5 for x in range(10) if x%2==1]"
   ]
  },
  {
   "cell_type": "code",
   "execution_count": null,
   "id": "ce9fd725",
   "metadata": {},
   "outputs": [],
   "source": [
    "levels=[50,100,0,200,0,150]\n",
    "# for x in range(len(levels)):\n",
    "#     if levels[x]==0:\n",
    "#         levels[x]=\"No power up\"\n",
    "levels = [\"No Power Up\"  if x==0 else x for x in levels]\n",
    "print(levels)"
   ]
  },
  {
   "cell_type": "markdown",
   "id": "66d74bd0",
   "metadata": {},
   "source": [
    "### Task: Emoji Counter  \n",
    "You are designing a tool for a social media platform to analyze emoji usage.  \n",
    "\n",
    "#### Instructions:\n",
    "1. You are given a list of messages containing emojis:  \n",
    "   ```python\n",
    "   messages = ['😊🎉', 'Hi there! 😊', 'No emojis here!', '🔥🔥😊']\n",
    "\n",
    "2. Use **list comprehension** to:  \n",
    "  - Count how many emojis are in each message.  \n",
    "  - Create a new list of counts, e.g., `[2, 1, 0, 3]`.\n",
    "\n",
    "- **Bonus Challenge:**  \n",
    "  - Filter out messages with no emojis and store them in a separate list.\n"
   ]
  },
  {
   "cell_type": "code",
   "execution_count": 10,
   "id": "69925e04",
   "metadata": {},
   "outputs": [
    {
     "name": "stdout",
     "output_type": "stream",
     "text": [
      "[2, 1, 0, 3]\n",
      "['No emojis here!']\n"
     ]
    }
   ],
   "source": [
    "import emoji\n",
    "messages = ['😊🎉', 'Hi there! 😊', 'No emojis here!', '🔥🔥😊']\n",
    "count=[]\n",
    "for i in messages:\n",
    "    count.append(emoji.emoji_count(i))\n",
    "print(count)\n",
    "withoutemoji=[x for x in messages if emoji.emoji_count(x)==0]\n",
    "print(withoutemoji)"
   ]
  },
  {
   "cell_type": "code",
   "execution_count": null,
   "id": "b8f03907",
   "metadata": {},
   "outputs": [],
   "source": []
  }
 ],
 "metadata": {
  "kernelspec": {
   "display_name": "venv",
   "language": "python",
   "name": "python3"
  },
  "language_info": {
   "codemirror_mode": {
    "name": "ipython",
    "version": 3
   },
   "file_extension": ".py",
   "mimetype": "text/x-python",
   "name": "python",
   "nbconvert_exporter": "python",
   "pygments_lexer": "ipython3",
   "version": "3.13.3"
  }
 },
 "nbformat": 4,
 "nbformat_minor": 5
}
